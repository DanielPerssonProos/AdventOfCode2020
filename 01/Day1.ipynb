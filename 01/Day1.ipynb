{
 "cells": [
  {
   "cell_type": "code",
   "execution_count": 1,
   "metadata": {},
   "outputs": [],
   "source": [
    "import math"
   ]
  },
  {
   "cell_type": "markdown",
   "metadata": {},
   "source": [
    "### Helper functions"
   ]
  },
  {
   "cell_type": "code",
   "execution_count": 2,
   "metadata": {},
   "outputs": [],
   "source": [
    "def create_list_of_numbers(string):\n",
    "    return [int(x) for x in string.split('\\n') if len(x) > 0]\n",
    "\n",
    "def split_list_on_pivot(list_of_numbers, pivot_element):\n",
    "    below_pivot = [x for x in list_of_numbers if x <= pivot_element]\n",
    "    above_pivot = [x for x in list_of_numbers if x > pivot_element]\n",
    "    below_pivot.sort()\n",
    "    above_pivot.sort()\n",
    "    return below_pivot, above_pivot"
   ]
  },
  {
   "cell_type": "markdown",
   "metadata": {},
   "source": [
    "### Load input"
   ]
  },
  {
   "cell_type": "code",
   "execution_count": 3,
   "metadata": {},
   "outputs": [],
   "source": [
    "f = open(\"input.txt\", \"r\")\n",
    "input = f.read()\n",
    "numbers = create_list_of_numbers(input)\n",
    "f.close()"
   ]
  },
  {
   "cell_type": "markdown",
   "metadata": {},
   "source": [
    "## First problem: Find two terms that add to 2020 and multiply"
   ]
  },
  {
   "cell_type": "code",
   "execution_count": 4,
   "metadata": {},
   "outputs": [],
   "source": [
    "def find_two_terms(b, a):\n",
    "    for low in b:\n",
    "        for high in a:\n",
    "            s = low + high\n",
    "            if s == 2020:\n",
    "                return low, high\n",
    "            elif s > 2020:\n",
    "                break\n",
    "    return -1, -1"
   ]
  },
  {
   "cell_type": "code",
   "execution_count": 5,
   "metadata": {
    "scrolled": false
   },
   "outputs": [
    {
     "name": "stdout",
     "output_type": "stream",
     "text": [
      "954 + 1066 = 2020\n",
      "954 * 1066 = 1016964\n"
     ]
    }
   ],
   "source": [
    "pivot1 = 1010\n",
    "below1, above1 = split_list_on_pivot(numbers, pivot1)\n",
    "first1, second1 = find_two_terms(below1, above1)\n",
    "print(str(first1)+\" + \"+str(second1)+\" = \"+str(first1+second1))\n",
    "print(str(first1)+\" * \"+str(second1)+\" = \"+str(first1*second1))"
   ]
  },
  {
   "cell_type": "markdown",
   "metadata": {},
   "source": [
    "## Second problem: Find three terms that add to 2020 and multiply"
   ]
  },
  {
   "cell_type": "code",
   "execution_count": 6,
   "metadata": {},
   "outputs": [],
   "source": [
    "def find_three_terms(b, a, pivot):\n",
    "    for low in b:\n",
    "        for high in a:\n",
    "            s1 = low + high\n",
    "            list_for_third_term = a if 2020 - s1 > pivot else b\n",
    "            for third in list_for_third_term:\n",
    "                s = low + high + third\n",
    "                if s == 2020:\n",
    "                    return low, high, third\n",
    "                elif s > 2020:\n",
    "                    break\n",
    "    return -1, -1, -1\n",
    "                    "
   ]
  },
  {
   "cell_type": "code",
   "execution_count": 7,
   "metadata": {},
   "outputs": [
    {
     "name": "stdout",
     "output_type": "stream",
     "text": [
      "295 + 1216 + 509 = 2020\n",
      "295 * 1216 * 509 = 182588480\n"
     ]
    }
   ],
   "source": [
    "pivot2 = 2020/3\n",
    "below2, above2 = split_list_on_pivot(numbers, pivot2)\n",
    "first2, second2, third2 = find_three_terms(below2, above2, pivot2)\n",
    "print(str(first2)+\" + \"+str(second2)+\" + \"+str(third2)+\" = \"+str(first2+second2+third2))\n",
    "print(str(first2)+\" * \"+str(second2)+\" * \"+str(third2)+\" = \"+str(first2*second2*third2))"
   ]
  }
 ],
 "metadata": {
  "kernelspec": {
   "display_name": "Python 2",
   "language": "python",
   "name": "python2"
  },
  "language_info": {
   "codemirror_mode": {
    "name": "ipython",
    "version": 2
   },
   "file_extension": ".py",
   "mimetype": "text/x-python",
   "name": "python",
   "nbconvert_exporter": "python",
   "pygments_lexer": "ipython2",
   "version": "2.7.17"
  }
 },
 "nbformat": 4,
 "nbformat_minor": 2
}
