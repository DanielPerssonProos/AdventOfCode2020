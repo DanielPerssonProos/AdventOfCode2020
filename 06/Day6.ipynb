{
 "cells": [
  {
   "cell_type": "code",
   "execution_count": 5,
   "metadata": {},
   "outputs": [],
   "source": [
    "f = open(\"input.txt\", \"r\")\n",
    "input = f.read()\n",
    "answers = [a.split('\\n') for a in input.rstrip().split('\\n\\n')]\n",
    "f.close()"
   ]
  },
  {
   "cell_type": "markdown",
   "metadata": {},
   "source": [
    "## Problem 1"
   ]
  },
  {
   "cell_type": "code",
   "execution_count": 9,
   "metadata": {},
   "outputs": [],
   "source": [
    "def calculate_num_answered_questions(group_answers):\n",
    "    answered_questions = set({})\n",
    "    for answer in group_answers:\n",
    "        answered_questions.update([c for c in answer])\n",
    "    return len(answered_questions)"
   ]
  },
  {
   "cell_type": "code",
   "execution_count": 10,
   "metadata": {
    "scrolled": true
   },
   "outputs": [
    {
     "name": "stdout",
     "output_type": "stream",
     "text": [
      "Sum of answers: 6430\n"
     ]
    }
   ],
   "source": [
    "summed_answers = sum([calculate_num_answered_questions(a) for a in answers])\n",
    "print('Sum of answers: ' + str(summed_answers))"
   ]
  },
  {
   "cell_type": "markdown",
   "metadata": {},
   "source": [
    "## Problem 2"
   ]
  },
  {
   "cell_type": "code",
   "execution_count": 11,
   "metadata": {},
   "outputs": [],
   "source": [
    "def calculate_num_common_answers(group_answers):\n",
    "    answered_questions = set([c for c in group_answers[0]])\n",
    "    for answer in group_answers:\n",
    "        answered_questions = answered_questions.intersection([c for c in answer])\n",
    "    return len(answered_questions)"
   ]
  },
  {
   "cell_type": "code",
   "execution_count": 12,
   "metadata": {},
   "outputs": [
    {
     "name": "stdout",
     "output_type": "stream",
     "text": [
      "Sum of answers: 3125\n"
     ]
    }
   ],
   "source": [
    "summed_answers = sum([calculate_num_common_answers(a) for a in answers])\n",
    "print('Sum of answers: ' + str(summed_answers))"
   ]
  }
 ],
 "metadata": {
  "kernelspec": {
   "display_name": "Python 3",
   "language": "python",
   "name": "python3"
  },
  "language_info": {
   "codemirror_mode": {
    "name": "ipython",
    "version": 3
   },
   "file_extension": ".py",
   "mimetype": "text/x-python",
   "name": "python",
   "nbconvert_exporter": "python",
   "pygments_lexer": "ipython3",
   "version": "3.9.0"
  }
 },
 "nbformat": 4,
 "nbformat_minor": 2
}
