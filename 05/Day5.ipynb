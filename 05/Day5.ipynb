{
 "cells": [
  {
   "cell_type": "code",
   "execution_count": 1,
   "metadata": {},
   "outputs": [],
   "source": [
    "f = open(\"input.txt\", \"r\")\n",
    "input = f.read()\n",
    "boarding_passes = [b for b in input.split('\\n') if len(b)]\n",
    "f.close()"
   ]
  },
  {
   "cell_type": "markdown",
   "metadata": {},
   "source": [
    "### Helper functions"
   ]
  },
  {
   "cell_type": "code",
   "execution_count": 2,
   "metadata": {},
   "outputs": [],
   "source": [
    "def narrow_down_idx(divisions, sub_char, add_char):\n",
    "    idx_max = 2**len(divisions) - 1\n",
    "    idx_min = 0\n",
    "    for i in range(len(divisions)):\n",
    "        if divisions[i] == sub_char:\n",
    "            idx_max -= 2**(len(divisions)-1-i)\n",
    "        elif divisions[i] == add_char:\n",
    "            idx_min += 2**(len(divisions)-1-i)\n",
    "    return idx_min if idx_min == idx_max else -1\n",
    "\n",
    "def calculate_row(boarding_pass):\n",
    "    return narrow_down_idx(divisions=boarding_pass[:7], sub_char='F', add_char='B')\n",
    "\n",
    "def calculate_column(boarding_pass):\n",
    "    return narrow_down_idx(divisions=boarding_pass[7:], sub_char='L', add_char='R')\n",
    "\n",
    "def calculate_seat_position(boarding_pass):\n",
    "    return calculate_row(boarding_pass), calculate_column(boarding_pass)\n",
    "\n",
    "def calculate_seat_idx(boarding_pass):\n",
    "    row, col = calculate_seat_position(boarding_pass)\n",
    "    return row * 8 + col"
   ]
  },
  {
   "cell_type": "markdown",
   "metadata": {},
   "source": [
    "## Problem 1"
   ]
  },
  {
   "cell_type": "code",
   "execution_count": 3,
   "metadata": {},
   "outputs": [
    {
     "name": "stdout",
     "output_type": "stream",
     "text": [
      "Highest seat ID: 996\n"
     ]
    }
   ],
   "source": [
    "seat_ids = [calculate_seat_idx(b) for b in boarding_passes]\n",
    "print('Highest seat ID: '+str(max(seat_ids)))"
   ]
  },
  {
   "cell_type": "markdown",
   "metadata": {},
   "source": [
    "## Problem 2"
   ]
  },
  {
   "cell_type": "code",
   "execution_count": 4,
   "metadata": {},
   "outputs": [],
   "source": [
    "def find_missing_ids(seat_ids): \n",
    "    return [x for x in range(seat_ids[0], seat_ids[-1]+1) if x not in seat_ids]"
   ]
  },
  {
   "cell_type": "code",
   "execution_count": 5,
   "metadata": {},
   "outputs": [
    {
     "name": "stdout",
     "output_type": "stream",
     "text": [
      "Missing seat ID: 671\n"
     ]
    }
   ],
   "source": [
    "seat_ids.sort()\n",
    "print('Missing seat ID: '+str(find_missing_ids(seat_ids)[0]))"
   ]
  }
 ],
 "metadata": {
  "kernelspec": {
   "display_name": "Python 3",
   "language": "python",
   "name": "python3"
  },
  "language_info": {
   "codemirror_mode": {
    "name": "ipython",
    "version": 3
   },
   "file_extension": ".py",
   "mimetype": "text/x-python",
   "name": "python",
   "nbconvert_exporter": "python",
   "pygments_lexer": "ipython3",
   "version": "3.9.0"
  }
 },
 "nbformat": 4,
 "nbformat_minor": 4
}
