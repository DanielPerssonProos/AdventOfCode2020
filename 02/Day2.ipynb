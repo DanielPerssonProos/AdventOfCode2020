{
 "cells": [
  {
   "cell_type": "markdown",
   "metadata": {},
   "source": [
    "### Helper functions/classes"
   ]
  },
  {
   "cell_type": "code",
   "execution_count": 1,
   "metadata": {},
   "outputs": [],
   "source": [
    "class Entry:\n",
    "    def __init__(self, row_string):\n",
    "        policy_string, password = row_string.split(':')\n",
    "        indices, letter = policy_string.split(' ')\n",
    "        start, end = indices.split('-')\n",
    "        \n",
    "        self.start = int(start)\n",
    "        self.end = int(end)\n",
    "        self.letter = letter\n",
    "        self.password = password.strip()\n",
    "        \n",
    "    \n",
    "def count_valid_passwords(entry_rows, validator_fn):\n",
    "    return sum([validator_fn(e) for e in entry_rows])"
   ]
  },
  {
   "cell_type": "markdown",
   "metadata": {},
   "source": [
    "### Load input"
   ]
  },
  {
   "cell_type": "code",
   "execution_count": 2,
   "metadata": {},
   "outputs": [],
   "source": [
    "f = open(\"input.txt\", \"r\")\n",
    "rows = [Entry(row) for row in f if len(row)]\n",
    "f.close()"
   ]
  },
  {
   "cell_type": "markdown",
   "metadata": {},
   "source": [
    "## Problem 1 "
   ]
  },
  {
   "cell_type": "code",
   "execution_count": 3,
   "metadata": {},
   "outputs": [],
   "source": [
    "def validate_number_of_occurrences(entry):\n",
    "    occurrences = entry.password.count(entry.letter)\n",
    "    return occurrences >= entry.start and occurrences <= entry.end"
   ]
  },
  {
   "cell_type": "code",
   "execution_count": 4,
   "metadata": {},
   "outputs": [
    {
     "name": "stdout",
     "output_type": "stream",
     "text": [
      "Number of valid passwords: 447/1000\n"
     ]
    }
   ],
   "source": [
    "num_valid_passwords = count_valid_passwords(rows, validate_number_of_occurrences)\n",
    "print(\"Number of valid passwords: \"+str(num_valid_passwords)+\"/\"+str(len(rows)))"
   ]
  },
  {
   "cell_type": "markdown",
   "metadata": {},
   "source": [
    "## Problem 2"
   ]
  },
  {
   "cell_type": "code",
   "execution_count": 5,
   "metadata": {},
   "outputs": [],
   "source": [
    "def validate_single_occurrence_at_idxs(entry):\n",
    "    return (entry.password[entry.start-1] == entry.letter) != (entry.password[entry.end-1] == entry.letter) "
   ]
  },
  {
   "cell_type": "code",
   "execution_count": 6,
   "metadata": {},
   "outputs": [
    {
     "name": "stdout",
     "output_type": "stream",
     "text": [
      "Number of valid passwords: 249/1000\n"
     ]
    }
   ],
   "source": [
    "num_valid_passwords = count_valid_passwords(rows, validate_single_occurrence_at_idxs)\n",
    "print(\"Number of valid passwords: \"+str(num_valid_passwords)+\"/\"+str(len(rows)))"
   ]
  }
 ],
 "metadata": {
  "kernelspec": {
   "display_name": "Python 2",
   "language": "python",
   "name": "python2"
  },
  "language_info": {
   "codemirror_mode": {
    "name": "ipython",
    "version": 2
   },
   "file_extension": ".py",
   "mimetype": "text/x-python",
   "name": "python",
   "nbconvert_exporter": "python",
   "pygments_lexer": "ipython2",
   "version": "2.7.17"
  }
 },
 "nbformat": 4,
 "nbformat_minor": 2
}
