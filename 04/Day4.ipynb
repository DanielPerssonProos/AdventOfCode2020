{
 "cells": [
  {
   "cell_type": "code",
   "execution_count": 1,
   "metadata": {},
   "outputs": [],
   "source": [
    "from functools import reduce"
   ]
  },
  {
   "cell_type": "markdown",
   "metadata": {},
   "source": [
    "### Helper functions"
   ]
  },
  {
   "cell_type": "code",
   "execution_count": 2,
   "metadata": {},
   "outputs": [],
   "source": [
    "def parse_passport(fields_string):\n",
    "    return dict([field.split(':') for field in fields_string.replace('\\n', ' ').split(' ')])\n",
    "\n",
    "def validate_passports(passports, validator_fn):\n",
    "    return list(filter(validator_fn, passports))"
   ]
  },
  {
   "cell_type": "markdown",
   "metadata": {},
   "source": [
    "### Load data"
   ]
  },
  {
   "cell_type": "code",
   "execution_count": 3,
   "metadata": {},
   "outputs": [],
   "source": [
    "f = open(\"input.txt\", \"r\")\n",
    "input = f.read()\n",
    "passports = [parse_passport(p) for p in input.rstrip().split('\\n\\n')]\n",
    "f.close()"
   ]
  },
  {
   "cell_type": "markdown",
   "metadata": {},
   "source": [
    "## Problem 1"
   ]
  },
  {
   "cell_type": "code",
   "execution_count": 4,
   "metadata": {},
   "outputs": [],
   "source": [
    "def validate_fields_presence(passport):\n",
    "    required_fields = {'byr', 'iyr', 'eyr', 'hgt', 'hcl', 'ecl', 'pid'}\n",
    "    return len(required_fields.difference(set(passport.keys()))) == 0"
   ]
  },
  {
   "cell_type": "code",
   "execution_count": 5,
   "metadata": {},
   "outputs": [
    {
     "name": "stdout",
     "output_type": "stream",
     "text": [
      "Number of valid passports: 239\n"
     ]
    }
   ],
   "source": [
    "passports_with_present_fields = validate_passports(passports, validate_fields_presence)\n",
    "print(\"Number of valid passports: \" + str(len(passports_with_present_fields)))"
   ]
  },
  {
   "cell_type": "markdown",
   "metadata": {},
   "source": [
    "## Problem 2"
   ]
  },
  {
   "cell_type": "code",
   "execution_count": 6,
   "metadata": {},
   "outputs": [],
   "source": [
    "def validate_fields_compliance(passport):\n",
    "    def validate_height(height_string):\n",
    "        height = int(height_string.replace('cm', '').replace('in', ''))\n",
    "        if height_string.endswith('cm'):\n",
    "            return height >= 150 and height <= 193\n",
    "        elif height_string.endswith('in'):\n",
    "            return height >= 59 and height <= 76\n",
    "        return False\n",
    "    \n",
    "    def validate_hair_color(hcl_string):\n",
    "        if len(hcl_string) != 7 or hcl_string[0] != '#':\n",
    "            return False\n",
    "        return reduce(lambda acc, cur: acc and (cur in '0123456789abcdefABCDEF'), hcl_string[1:])\n",
    "\n",
    "    \n",
    "    if int(passport['byr']) < 1920 or int(passport['byr']) > 2002:\n",
    "        return False\n",
    "    \n",
    "    if int(passport['iyr']) < 2010 or int(passport['iyr']) > 2020:\n",
    "        return False\n",
    "    \n",
    "    if int(passport['eyr']) < 2020 or int(passport['eyr']) > 2030:\n",
    "        return False\n",
    "    \n",
    "    if not validate_height(passport['hgt']):\n",
    "        return False\n",
    "    \n",
    "    if not validate_hair_color(passport['hcl']):\n",
    "        return False\n",
    "    \n",
    "    if passport['ecl'] not in ['amb', 'blu', 'brn', 'gry', 'grn', 'hzl', 'oth']:\n",
    "        return False\n",
    "    \n",
    "    if not passport['pid'].isnumeric() or len(passport['pid']) != 9:\n",
    "        return False\n",
    "    \n",
    "    return True"
   ]
  },
  {
   "cell_type": "code",
   "execution_count": 7,
   "metadata": {
    "scrolled": true
   },
   "outputs": [
    {
     "name": "stdout",
     "output_type": "stream",
     "text": [
      "number of valid passports: 188\n"
     ]
    }
   ],
   "source": [
    "valid_passports = validate_passports(passports_with_present_fields, validate_fields_compliance)\n",
    "print(\"number of valid passports: \" + str(len(valid_passports)))"
   ]
  }
 ],
 "metadata": {
  "kernelspec": {
   "display_name": "Python 3",
   "language": "python",
   "name": "python3"
  },
  "language_info": {
   "codemirror_mode": {
    "name": "ipython",
    "version": 3
   },
   "file_extension": ".py",
   "mimetype": "text/x-python",
   "name": "python",
   "nbconvert_exporter": "python",
   "pygments_lexer": "ipython3",
   "version": "3.9.0"
  }
 },
 "nbformat": 4,
 "nbformat_minor": 4
}
