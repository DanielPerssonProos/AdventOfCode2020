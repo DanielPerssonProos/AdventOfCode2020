{
 "cells": [
  {
   "cell_type": "code",
   "execution_count": 1,
   "metadata": {},
   "outputs": [],
   "source": [
    "import math"
   ]
  },
  {
   "cell_type": "markdown",
   "metadata": {},
   "source": [
    "### Load data"
   ]
  },
  {
   "cell_type": "code",
   "execution_count": 2,
   "metadata": {},
   "outputs": [],
   "source": [
    "f = open(\"input.txt\", \"r\")\n",
    "input = f.read()\n",
    "toboggan_map = [row for row in input.split('\\n') if len(row)]\n",
    "f.close()"
   ]
  },
  {
   "cell_type": "markdown",
   "metadata": {},
   "source": [
    "### Helper functions/classes"
   ]
  },
  {
   "cell_type": "code",
   "execution_count": 3,
   "metadata": {},
   "outputs": [],
   "source": [
    "class Slope:\n",
    "    def __init__(self, step_height, step_width):\n",
    "        self.step_height = step_height\n",
    "        self.step_width = step_width\n",
    "\n",
    "def determine_tree_count(used_map, slope):\n",
    "    map_height = len(used_map)\n",
    "    map_width = len(used_map[0])\n",
    "    tree_count = width = height = 0\n",
    "    while height < map_height:\n",
    "        if toboggan_map[height][width % map_width] == '#':\n",
    "            tree_count += 1\n",
    "        height += slope.step_height\n",
    "        width += slope.step_width\n",
    "    return tree_count"
   ]
  },
  {
   "cell_type": "markdown",
   "metadata": {},
   "source": [
    "## Problem 1"
   ]
  },
  {
   "cell_type": "code",
   "execution_count": 4,
   "metadata": {
    "scrolled": true
   },
   "outputs": [
    {
     "name": "stdout",
     "output_type": "stream",
     "text": [
      "Tree count: 276\n"
     ]
    }
   ],
   "source": [
    "num_trees = determine_tree_count(toboggan_map, Slope(1, 3))\n",
    "print('Tree count: ' + str(num_trees))"
   ]
  },
  {
   "cell_type": "markdown",
   "metadata": {},
   "source": [
    "## Problem 2"
   ]
  },
  {
   "cell_type": "code",
   "execution_count": 5,
   "metadata": {},
   "outputs": [
    {
     "name": "stdout",
     "output_type": "stream",
     "text": [
      "Multiplied tree counts: 7812180000\n"
     ]
    }
   ],
   "source": [
    "slopes = [\n",
    "    Slope(step_width=1, step_height=1), \n",
    "    Slope(step_width=3, step_height=1), \n",
    "    Slope(step_width=5, step_height=1), \n",
    "    Slope(step_width=7, step_height=1), \n",
    "    Slope(step_width=1, step_height=2)\n",
    "]\n",
    "\n",
    "tree_counts = [determine_tree_count(toboggan_map, slope) for slope in slopes]\n",
    "multiplied_tree_counts = 1\n",
    "for count in tree_counts:\n",
    "    multiplied_tree_counts *= count\n",
    "    \n",
    "print(\"Multiplied tree counts: \" + str(multiplied_tree_counts))"
   ]
  }
 ],
 "metadata": {
  "kernelspec": {
   "display_name": "Python 2",
   "language": "python",
   "name": "python2"
  },
  "language_info": {
   "codemirror_mode": {
    "name": "ipython",
    "version": 2
   },
   "file_extension": ".py",
   "mimetype": "text/x-python",
   "name": "python",
   "nbconvert_exporter": "python",
   "pygments_lexer": "ipython2",
   "version": "2.7.17"
  }
 },
 "nbformat": 4,
 "nbformat_minor": 2
}
